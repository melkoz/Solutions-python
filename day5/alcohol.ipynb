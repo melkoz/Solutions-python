{
 "cells": [
  {
   "cell_type": "markdown",
   "metadata": {},
   "source": [
    "# Ex - GroupBy"
   ]
  },
  {
   "cell_type": "markdown",
   "metadata": {},
   "source": [
    "### Introduction:\n",
    "\n",
    "GroupBy can be summarizes as Split-Apply-Combine.\n",
    "\n",
    "Special thanks to: https://github.com/justmarkham for sharing the dataset and materials.\n",
    "\n",
    "Check out this [Diagram](http://i.imgur.com/yjNkiwL.png)  \n",
    "### Step 1. Import the necessary libraries"
   ]
  },
  {
   "cell_type": "code",
   "execution_count": 16,
   "metadata": {},
   "outputs": [],
   "source": [
    "import pandas as pd\n",
    "import numpy as np"
   ]
  },
  {
   "cell_type": "markdown",
   "metadata": {},
   "source": [
    "### Step 2. Import the dataset from this [address](https://raw.githubusercontent.com/justmarkham/DAT8/master/data/drinks.csv). "
   ]
  },
  {
   "cell_type": "markdown",
   "metadata": {},
   "source": [
    "### Step 3. Assign it to a variable called drinks."
   ]
  },
  {
   "cell_type": "code",
   "execution_count": 6,
   "metadata": {},
   "outputs": [],
   "source": [
    "drinks = pd.read_csv('https://raw.githubusercontent.com/justmarkham/DAT8/master/data/drinks.csv')"
   ]
  },
  {
   "cell_type": "code",
   "execution_count": 88,
   "metadata": {},
   "outputs": [],
   "source": [
    "drinks['continent'].fillna('NoA', inplace=True)"
   ]
  },
  {
   "cell_type": "markdown",
   "metadata": {},
   "source": [
    "### Step 4. Which continent drinks more beer on average?"
   ]
  },
  {
   "cell_type": "code",
   "execution_count": 89,
   "metadata": {},
   "outputs": [
    {
     "data": {
      "text/plain": [
       "['AS', 'EU', 'AF', 'NoA', 'SA', 'OC']"
      ]
     },
     "execution_count": 89,
     "metadata": {},
     "output_type": "execute_result"
    }
   ],
   "source": [
    "drinks.continent.unique().tolist()"
   ]
  },
  {
   "cell_type": "code",
   "execution_count": 91,
   "metadata": {},
   "outputs": [
    {
     "name": "stdout",
     "output_type": "stream",
     "text": [
      "Arerage number of bear servings 37.0  in a continent  AS\n",
      "Arerage number of bear servings 193.8  in a continent  EU\n",
      "Arerage number of bear servings 61.5  in a continent  AF\n",
      "Arerage number of bear servings 145.4  in a continent  NoA\n",
      "Arerage number of bear servings 175.1  in a continent  SA\n",
      "Arerage number of bear servings 89.7  in a continent  OC\n",
      "\n",
      " Europe drinks more beer on average!\n"
     ]
    }
   ],
   "source": [
    "for i in range(0,len(drinks.continent.unique().tolist())):\n",
    "    \n",
    "    continent = drinks.continent.unique().tolist()[i]\n",
    "    sel = drinks.continent == continent\n",
    "\n",
    "    average = np.round(drinks.beer_servings[sel].mean(),1)\n",
    "\n",
    "    print('Arerage number of bear servings', average, ' in a continent ',continent)\n",
    "\n",
    "print('\\n','Europe drinks more beer on average!')"
   ]
  },
  {
   "cell_type": "markdown",
   "metadata": {},
   "source": [
    "### Step 5. For each continent print the statistics for wine consumption."
   ]
  },
  {
   "cell_type": "code",
   "execution_count": 75,
   "metadata": {},
   "outputs": [
    {
     "data": {
      "text/plain": [
       "False"
      ]
     },
     "execution_count": 75,
     "metadata": {},
     "output_type": "execute_result"
    }
   ],
   "source": [
    "type(drinks.continent.unique().tolist()[2]) == np.float"
   ]
  },
  {
   "cell_type": "code",
   "execution_count": 92,
   "metadata": {},
   "outputs": [
    {
     "name": "stdout",
     "output_type": "stream",
     "text": [
      "Arerage number of wine servings 9.1  in a continent  AS\n",
      "Median number of wine servings 1.0  in a continent  AS \n",
      "\n",
      "Arerage number of wine servings 142.2  in a continent  EU\n",
      "Median number of wine servings 128.0  in a continent  EU \n",
      "\n",
      "Arerage number of wine servings 16.3  in a continent  AF\n",
      "Median number of wine servings 2.0  in a continent  AF \n",
      "\n",
      "Arerage number of wine servings 24.5  in a continent  NoA\n",
      "Median number of wine servings 11.0  in a continent  NoA \n",
      "\n",
      "Arerage number of wine servings 62.4  in a continent  SA\n",
      "Median number of wine servings 12.0  in a continent  SA \n",
      "\n",
      "Arerage number of wine servings 35.6  in a continent  OC\n",
      "Median number of wine servings 8.5  in a continent  OC \n",
      "\n"
     ]
    }
   ],
   "source": [
    "for i in range(0,len(drinks.continent.unique().tolist())):\n",
    "    \n",
    "    continent = drinks.continent.unique().tolist()[i]\n",
    "   \n",
    "    sel = drinks.continent == continent\n",
    "\n",
    "    average = np.round(drinks.wine_servings[sel].mean(),1)\n",
    "    median = np.round(drinks.wine_servings[sel].median(),1)\n",
    "\n",
    "    print('Arerage number of wine servings', average, ' in a continent ',continent)\n",
    "    print('Median number of wine servings',median , ' in a continent ',continent,'\\n')"
   ]
  },
  {
   "cell_type": "markdown",
   "metadata": {},
   "source": [
    "### Step 6. Print the mean alcoohol consumption per continent for every column"
   ]
  },
  {
   "cell_type": "code",
   "execution_count": 93,
   "metadata": {},
   "outputs": [
    {
     "name": "stdout",
     "output_type": "stream",
     "text": [
      " >>>    AS   <<<  \n",
      "Arerage number of  beer_servings   37.0 \n",
      "\n",
      "Arerage number of  spirit_servings   60.8 \n",
      "\n",
      "Arerage number of  wine_servings   9.1 \n",
      "\n",
      "Arerage number of  total_litres_of_pure_alcohol   2.2 \n",
      "\n",
      " >>>    EU   <<<  \n",
      "Arerage number of  beer_servings   193.8 \n",
      "\n",
      "Arerage number of  spirit_servings   132.6 \n",
      "\n",
      "Arerage number of  wine_servings   142.2 \n",
      "\n",
      "Arerage number of  total_litres_of_pure_alcohol   8.6 \n",
      "\n",
      " >>>    AF   <<<  \n",
      "Arerage number of  beer_servings   61.5 \n",
      "\n",
      "Arerage number of  spirit_servings   16.3 \n",
      "\n",
      "Arerage number of  wine_servings   16.3 \n",
      "\n",
      "Arerage number of  total_litres_of_pure_alcohol   3.0 \n",
      "\n",
      " >>>    NoA   <<<  \n",
      "Arerage number of  beer_servings   145.4 \n",
      "\n",
      "Arerage number of  spirit_servings   165.7 \n",
      "\n",
      "Arerage number of  wine_servings   24.5 \n",
      "\n",
      "Arerage number of  total_litres_of_pure_alcohol   6.0 \n",
      "\n",
      " >>>    SA   <<<  \n",
      "Arerage number of  beer_servings   175.1 \n",
      "\n",
      "Arerage number of  spirit_servings   114.8 \n",
      "\n",
      "Arerage number of  wine_servings   62.4 \n",
      "\n",
      "Arerage number of  total_litres_of_pure_alcohol   6.3 \n",
      "\n",
      " >>>    OC   <<<  \n",
      "Arerage number of  beer_servings   89.7 \n",
      "\n",
      "Arerage number of  spirit_servings   58.4 \n",
      "\n",
      "Arerage number of  wine_servings   35.6 \n",
      "\n",
      "Arerage number of  total_litres_of_pure_alcohol   3.4 \n",
      "\n"
     ]
    }
   ],
   "source": [
    "for i in range(0,len(drinks.continent.unique().tolist())):\n",
    "    continent = drinks.continent.unique().tolist()[i]\n",
    "    \n",
    "    print(' >>>   ',continent, '  <<<  ')\n",
    "    for j in range(len(drinks.columns[1:-1][:])):\n",
    "\n",
    "        alk_info = drinks.columns[1:-1][j]\n",
    "\n",
    "        sel = drinks.continent == continent\n",
    "\n",
    "        average = np.round(drinks[alk_info][sel].mean(),1)\n",
    "\n",
    "        print('Arerage number of ', alk_info,' ', average,'\\n')"
   ]
  },
  {
   "cell_type": "markdown",
   "metadata": {},
   "source": [
    "### Step 7. Print the median alcoohol consumption per continent for every column"
   ]
  },
  {
   "cell_type": "code",
   "execution_count": 94,
   "metadata": {},
   "outputs": [
    {
     "name": "stdout",
     "output_type": "stream",
     "text": [
      " >>>    AS   <<<  \n",
      "Median number of  beer_servings   17.5 \n",
      "\n",
      "Median number of  spirit_servings   16.0 \n",
      "\n",
      "Median number of  wine_servings   1.0 \n",
      "\n",
      "Median number of  total_litres_of_pure_alcohol   1.2 \n",
      "\n",
      " >>>    EU   <<<  \n",
      "Median number of  beer_servings   219.0 \n",
      "\n",
      "Median number of  spirit_servings   122.0 \n",
      "\n",
      "Median number of  wine_servings   128.0 \n",
      "\n",
      "Median number of  total_litres_of_pure_alcohol   10.0 \n",
      "\n",
      " >>>    AF   <<<  \n",
      "Median number of  beer_servings   32.0 \n",
      "\n",
      "Median number of  spirit_servings   3.0 \n",
      "\n",
      "Median number of  wine_servings   2.0 \n",
      "\n",
      "Median number of  total_litres_of_pure_alcohol   2.3 \n",
      "\n",
      " >>>    NoA   <<<  \n",
      "Median number of  beer_servings   143.0 \n",
      "\n",
      "Median number of  spirit_servings   137.0 \n",
      "\n",
      "Median number of  wine_servings   11.0 \n",
      "\n",
      "Median number of  total_litres_of_pure_alcohol   6.3 \n",
      "\n",
      " >>>    SA   <<<  \n",
      "Median number of  beer_servings   162.5 \n",
      "\n",
      "Median number of  spirit_servings   108.5 \n",
      "\n",
      "Median number of  wine_servings   12.0 \n",
      "\n",
      "Median number of  total_litres_of_pure_alcohol   6.8 \n",
      "\n",
      " >>>    OC   <<<  \n",
      "Median number of  beer_servings   52.5 \n",
      "\n",
      "Median number of  spirit_servings   37.0 \n",
      "\n",
      "Median number of  wine_servings   8.5 \n",
      "\n",
      "Median number of  total_litres_of_pure_alcohol   1.8 \n",
      "\n"
     ]
    }
   ],
   "source": [
    "for i in range(0,len(drinks.continent.unique().tolist())):\n",
    "    continent = drinks.continent.unique().tolist()[i]\n",
    "    \n",
    "    print(' >>>   ',continent, '  <<<  ')\n",
    "    for j in range(len(drinks.columns[1:-1][:])):\n",
    "\n",
    "        alk_info = drinks.columns[1:-1][j]\n",
    "\n",
    "        sel = drinks.continent == continent\n",
    "\n",
    "        average = np.round(drinks[alk_info][sel].median(),1)\n",
    "\n",
    "        print('Median number of ', alk_info,' ', average,'\\n')"
   ]
  },
  {
   "cell_type": "markdown",
   "metadata": {},
   "source": [
    "### Step 8. Print the mean, min and max values for spirit consumption.\n",
    "#### This time output a DataFrame"
   ]
  },
  {
   "cell_type": "code",
   "execution_count": null,
   "metadata": {},
   "outputs": [],
   "source": []
  }
 ],
 "metadata": {
  "kernelspec": {
   "display_name": "Python 3",
   "language": "python",
   "name": "python3"
  },
  "language_info": {
   "codemirror_mode": {
    "name": "ipython",
    "version": 3
   },
   "file_extension": ".py",
   "mimetype": "text/x-python",
   "name": "python",
   "nbconvert_exporter": "python",
   "pygments_lexer": "ipython3",
   "version": "3.7.4"
  }
 },
 "nbformat": 4,
 "nbformat_minor": 1
}
