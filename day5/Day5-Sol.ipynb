{
 "cells": [
  {
   "cell_type": "code",
   "execution_count": 88,
   "metadata": {},
   "outputs": [],
   "source": [
    "import numpy as np\n",
    "import scipy as sp\n",
    "from scipy import *\n",
    "from scipy.linalg import *\n",
    "from scipy import stats\n",
    "\n",
    "%matplotlib inline\n",
    "import matplotlib.pyplot as plt"
   ]
  },
  {
   "cell_type": "markdown",
   "metadata": {},
   "source": [
    "# 1. Scipy"
   ]
  },
  {
   "cell_type": "markdown",
   "metadata": {},
   "source": [
    "# a)"
   ]
  },
  {
   "cell_type": "code",
   "execution_count": 31,
   "metadata": {},
   "outputs": [],
   "source": [
    "A = np.array([[1, 2, 3],\n",
    " [4, 5, 6],\n",
    " [7, 8, 9]])"
   ]
  },
  {
   "cell_type": "markdown",
   "metadata": {},
   "source": [
    "# b)"
   ]
  },
  {
   "cell_type": "code",
   "execution_count": 32,
   "metadata": {},
   "outputs": [],
   "source": [
    "b = np.array([1, 2, 3])"
   ]
  },
  {
   "cell_type": "markdown",
   "metadata": {},
   "source": [
    "# c)"
   ]
  },
  {
   "cell_type": "code",
   "execution_count": 33,
   "metadata": {},
   "outputs": [
    {
     "name": "stderr",
     "output_type": "stream",
     "text": [
      "/home/slon/anaconda3/lib/python3.7/site-packages/ipykernel_launcher.py:1: LinAlgWarning: Ill-conditioned matrix (rcond=2.20282e-18): result may not be accurate.\n",
      "  \"\"\"Entry point for launching an IPython kernel.\n"
     ]
    },
    {
     "data": {
      "text/plain": [
       "array([-0.23333333,  0.46666667,  0.1       ])"
      ]
     },
     "execution_count": 33,
     "metadata": {},
     "output_type": "execute_result"
    }
   ],
   "source": [
    "x = sp.linalg.solve(A, b)\n",
    "x"
   ]
  },
  {
   "cell_type": "markdown",
   "metadata": {},
   "source": [
    "# d)"
   ]
  },
  {
   "cell_type": "code",
   "execution_count": 34,
   "metadata": {},
   "outputs": [
    {
     "data": {
      "text/plain": [
       "array([1., 2., 3.])"
      ]
     },
     "execution_count": 34,
     "metadata": {},
     "output_type": "execute_result"
    }
   ],
   "source": [
    "np.matmul(A,x)"
   ]
  },
  {
   "cell_type": "markdown",
   "metadata": {},
   "source": [
    "# e) and g)"
   ]
  },
  {
   "cell_type": "code",
   "execution_count": 43,
   "metadata": {},
   "outputs": [
    {
     "data": {
      "text/plain": [
       "array([[0.277, 0.065, 0.021],\n",
       "       [0.552, 0.346, 0.649],\n",
       "       [0.194, 0.653, 0.368]])"
      ]
     },
     "execution_count": 43,
     "metadata": {},
     "output_type": "execute_result"
    }
   ],
   "source": [
    "B = sp.rand(3,3)\n",
    "np.round(B,3)"
   ]
  },
  {
   "cell_type": "code",
   "execution_count": 44,
   "metadata": {},
   "outputs": [
    {
     "name": "stderr",
     "output_type": "stream",
     "text": [
      "/home/slon/anaconda3/lib/python3.7/site-packages/ipykernel_launcher.py:1: LinAlgWarning: Ill-conditioned matrix (rcond=2.20282e-18): result may not be accurate.\n",
      "  \"\"\"Entry point for launching an IPython kernel.\n"
     ]
    },
    {
     "data": {
      "text/plain": [
       "array([[-1.99472852e+15,  8.21034807e+13, -2.86631133e+15],\n",
       "       [ 3.98945704e+15, -1.64206961e+14,  5.73262265e+15],\n",
       "       [-1.99472852e+15,  8.21034807e+13, -2.86631133e+15]])"
      ]
     },
     "execution_count": 44,
     "metadata": {},
     "output_type": "execute_result"
    }
   ],
   "source": [
    "X = sp.linalg.solve(A,B)\n",
    "X"
   ]
  },
  {
   "cell_type": "code",
   "execution_count": 52,
   "metadata": {
    "scrolled": true
   },
   "outputs": [
    {
     "name": "stdout",
     "output_type": "stream",
     "text": [
      "A*X =  [[-0.5     0.0625  0.5   ]\n",
      " [ 1.      0.375  -1.    ]\n",
      " [ 0.5     0.625   1.5   ]]\n",
      "Matrix A has a zero detemninant hence it is singular and we can not solve the equatin\n",
      "Determinant A: 0.0\n"
     ]
    }
   ],
   "source": [
    "print('A*X = ',np.matmul(A,X))\n",
    "print('Matrix A has a zero detemninant hence it is singular and we can not solve the equatin')\n",
    "print('Determinant A:' ,det(A))"
   ]
  },
  {
   "cell_type": "code",
   "execution_count": 53,
   "metadata": {},
   "outputs": [
    {
     "name": "stdout",
     "output_type": "stream",
     "text": [
      "Inverse A\n"
     ]
    },
    {
     "data": {
      "text/plain": [
       "array([[ 3.15251974e+15, -6.30503948e+15,  3.15251974e+15],\n",
       "       [-6.30503948e+15,  1.26100790e+16, -6.30503948e+15],\n",
       "       [ 3.15251974e+15, -6.30503948e+15,  3.15251974e+15]])"
      ]
     },
     "execution_count": 53,
     "metadata": {},
     "output_type": "execute_result"
    }
   ],
   "source": [
    "print('Inverse A')\n",
    "inv(A)"
   ]
  },
  {
   "cell_type": "markdown",
   "metadata": {},
   "source": [
    "# f)"
   ]
  },
  {
   "cell_type": "code",
   "execution_count": 59,
   "metadata": {},
   "outputs": [
    {
     "name": "stdout",
     "output_type": "stream",
     "text": [
      "Eigenvalues:  \n",
      " [ 1.61168440e+01+0.j -1.11684397e+00+0.j -9.75918483e-16+0.j] \n",
      "\n",
      "Eigenvectors:  \n",
      " [[-0.23197069 -0.78583024  0.40824829]\n",
      " [-0.52532209 -0.08675134 -0.81649658]\n",
      " [-0.8186735   0.61232756  0.40824829]]\n"
     ]
    }
   ],
   "source": [
    "evals, evecs = eig(A)\n",
    "print('Eigenvalues: ','\\n', evals,'\\n')\n",
    "print('Eigenvectors: ','\\n',evecs)"
   ]
  },
  {
   "cell_type": "markdown",
   "metadata": {},
   "source": [
    "# h)"
   ]
  },
  {
   "cell_type": "code",
   "execution_count": 83,
   "metadata": {},
   "outputs": [
    {
     "name": "stdout",
     "output_type": "stream",
     "text": [
      "18.0\n",
      "24.0\n"
     ]
    }
   ],
   "source": [
    "norm_A_1 = norm(A, 1)\n",
    "print(norm_A_1)\n",
    "norm_A_inf = norm(A, Inf)\n",
    "print(norm_A_inf)"
   ]
  },
  {
   "cell_type": "markdown",
   "metadata": {},
   "source": [
    "# Statistics"
   ]
  },
  {
   "cell_type": "markdown",
   "metadata": {},
   "source": [
    "# a)"
   ]
  },
  {
   "cell_type": "code",
   "execution_count": 133,
   "metadata": {},
   "outputs": [
    {
     "data": {
      "image/png": "[encoded data removed]",
      "text/plain": [
       "<Figure size 720x720 with 3 Axes>"
      ]
     },
     "metadata": {
      "needs_background": "light"
     },
     "output_type": "display_data"
    }
   ],
   "source": [
    "mu = 10\n",
    "n =  arange(0,20)\n",
    "Z = stats.poisson(mu) \n",
    "\n",
    "fig, axes = plt.subplots(3,1, sharex=True, figsize=(10,10))\n",
    "fs = 18\n",
    "# probability mass function (PMF)\n",
    "axes[0].step(n, Z.pmf(n))\n",
    "\n",
    "# commulative distribution function (CDF)\n",
    "axes[1].step(n, Z.cdf(n))\n",
    "\n",
    "# histogram of 1000 random realizations of the variable\n",
    "axes[2].hist(Z.rvs(size=1000), bins = 20)\n",
    "\n",
    "axes[2].set_xlabel('Z', fontsize=fs+2)\n",
    "axes[0].set_ylabel('PMF', fontsize=fs+2)\n",
    "axes[1].set_ylabel('CDF', fontsize=fs+2)\n",
    "axes[2].set_ylabel('Counts', fontsize=fs+2)\n",
    "axes[0].set_title('Discrete variable - poissonian distribution', fontsize=fs+4)\n",
    "\n",
    "for ax in axes:\n",
    "    ax.set_ylim(0,)\n",
    "    ax.set_xlim(0,20)\n",
    "    ax.tick_params(axis='x', labelsize=fs-2)\n",
    "    ax.tick_params(axis='y', labelsize=fs-2)"
   ]
  },
  {
   "cell_type": "code",
   "execution_count": null,
   "metadata": {},
   "outputs": [],
   "source": []
  },
  {
   "cell_type": "code",
   "execution_count": 142,
   "metadata": {},
   "outputs": [
    {
     "data": {
      "image/png": "[encoded data removed]",
      "text/plain": [
       "<Figure size 720x720 with 3 Axes>"
      ]
     },
     "metadata": {
      "needs_background": "light"
     },
     "output_type": "display_data"
    }
   ],
   "source": [
    "D = stats.norm()\n",
    "x = linspace(-5,5,50)\n",
    "\n",
    "fig, axes = plt.subplots(3,1, sharex=True, figsize=(10,10))\n",
    "\n",
    "# probability distribution function\n",
    "axes[0].plot(x, D.pdf(x))\n",
    "# commulative distributin function\n",
    "axes[1].plot(x, D.cdf(x));\n",
    "# histogram \n",
    "axes[2].hist(D.rvs(size=1000), bins=40)\n",
    "\n",
    "\n",
    "\n",
    "axes[2].set_xlabel('D', fontsize=fs+2)\n",
    "axes[0].set_ylabel('PMF', fontsize=fs+2)\n",
    "axes[1].set_ylabel('CDF', fontsize=fs+2)\n",
    "axes[2].set_ylabel('Counts', fontsize=fs+2)\n",
    "axes[0].set_title('Continious variable - normal distribution', fontsize=fs+4)\n",
    "\n",
    "for ax in axes:\n",
    "    ax.set_ylim(0,)\n",
    "    ax.set_xlim(-5,5)\n",
    "    ax.tick_params(axis='x', labelsize=fs-2)\n",
    "    ax.tick_params(axis='y', labelsize=fs-2)\n"
   ]
  },
  {
   "cell_type": "markdown",
   "metadata": {},
   "source": [
    "# c)"
   ]
  },
  {
   "cell_type": "code",
   "execution_count": 143,
   "metadata": {},
   "outputs": [
    {
     "name": "stdout",
     "output_type": "stream",
     "text": [
      "The t-statistic = 0.08658761290410771\n",
      "The p-value = 0.9310001792750802\n"
     ]
    }
   ],
   "source": [
    "t_stat, p_val = stats.ttest_ind(D.rvs(size=10000), D.rvs(size=10000))\n",
    "\n",
    "print(\"The t-statistic =\", t_stat)\n",
    "print(\"The p-value =\", p_val)"
   ]
  },
  {
   "cell_type": "markdown",
   "metadata": {},
   "source": [
    "We can not say if the data come from the same distribution because of very large p value."
   ]
  },
  {
   "cell_type": "code",
   "execution_count": null,
   "metadata": {},
   "outputs": [],
   "source": []
  },
  {
   "cell_type": "code",
   "execution_count": null,
   "metadata": {},
   "outputs": [],
   "source": []
  },
  {
   "cell_type": "code",
   "execution_count": null,
   "metadata": {},
   "outputs": [],
   "source": []
  },
  {
   "cell_type": "code",
   "execution_count": null,
   "metadata": {},
   "outputs": [],
   "source": []
  }
 ],
 "metadata": {
  "kernelspec": {
   "display_name": "Python 3",
   "language": "python",
   "name": "python3"
  },
  "language_info": {
   "codemirror_mode": {
    "name": "ipython",
    "version": 3
   },
   "file_extension": ".py",
   "mimetype": "text/x-python",
   "name": "python",
   "nbconvert_exporter": "python",
   "pygments_lexer": "ipython3",
   "version": "3.7.4"
  }
 },
 "nbformat": 4,
 "nbformat_minor": 2
}
